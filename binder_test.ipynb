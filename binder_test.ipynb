{
 "cells": [
  {
   "cell_type": "code",
   "execution_count": 1,
   "metadata": {},
   "outputs": [],
   "source": [
    "import os\n",
    "import sys"
   ]
  },
  {
   "cell_type": "code",
   "execution_count": 2,
   "metadata": {},
   "outputs": [
    {
     "data": {
      "text/plain": [
       "'Linux'"
      ]
     },
     "execution_count": 2,
     "metadata": {},
     "output_type": "execute_result"
    }
   ],
   "source": [
    "os.uname().sysname"
   ]
  },
  {
   "cell_type": "code",
   "execution_count": 3,
   "metadata": {},
   "outputs": [
    {
     "data": {
      "text/plain": [
       "'/usr/bin/miniconda3/bin/python'"
      ]
     },
     "execution_count": 3,
     "metadata": {},
     "output_type": "execute_result"
    }
   ],
   "source": [
    "sys.executable"
   ]
  },
  {
   "cell_type": "code",
   "execution_count": 5,
   "metadata": {},
   "outputs": [
    {
     "name": "stdout",
     "output_type": "stream",
     "text": [
      "ruby: /usr/bin/ruby /usr/bin/ruby2.3 /usr/lib/ruby /usr/share/man/man1/ruby.1.gz\r\n"
     ]
    }
   ],
   "source": [
    "! whereis ruby"
   ]
  },
  {
   "cell_type": "code",
   "execution_count": 6,
   "metadata": {},
   "outputs": [
    {
     "name": "stdout",
     "output_type": "stream",
     "text": [
      "java: /usr/share/java\r\n"
     ]
    }
   ],
   "source": [
    "! whereis java"
   ]
  },
  {
   "cell_type": "code",
   "execution_count": 7,
   "metadata": {},
   "outputs": [
    {
     "data": {
      "text/plain": [
       "{'QT': True, 'binder': False, 'jupyter': True, 'kubernetes': False}"
      ]
     },
     "execution_count": 7,
     "metadata": {},
     "output_type": "execute_result"
    }
   ],
   "source": [
    "def detect_environ():\n",
    "    \"\"\"Check the runtime environment.\n",
    "    \"\"\"\n",
    "    envs = dict()\n",
    "    kube = list(filter(lambda x: \"KUBE\" in x, os.environ.keys()))\n",
    "    bind = list(filter(lambda x: \"BINDER\" in x, os.environ.keys()))\n",
    "    jpy = list(filter(lambda x: \"JPY\" in x, os.environ.keys()))\n",
    "    qt = list(filter(lambda x: \"QT\" in x, os.environ.keys()))\n",
    "    envs[\"kubernetes\"] = bool(len(kube))\n",
    "    envs[\"binder\"] = bool(len(bind))\n",
    "    envs[\"jupyter\"] = bool(len(jpy))\n",
    "    envs[\"QT\"] = bool(len(qt))\n",
    "    return envs\n",
    "\n",
    "detect_environ()"
   ]
  },
  {
   "cell_type": "code",
   "execution_count": null,
   "metadata": {},
   "outputs": [],
   "source": []
  }
 ],
 "metadata": {
  "kernelspec": {
   "display_name": "Python 3",
   "language": "python",
   "name": "python3"
  },
  "language_info": {
   "codemirror_mode": {
    "name": "ipython",
    "version": 3
   },
   "file_extension": ".py",
   "mimetype": "text/x-python",
   "name": "python",
   "nbconvert_exporter": "python",
   "pygments_lexer": "ipython3",
   "version": "3.6.3"
  }
 },
 "nbformat": 4,
 "nbformat_minor": 2
}
