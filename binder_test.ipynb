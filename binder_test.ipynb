{
 "cells": [
  {
   "cell_type": "code",
   "execution_count": 2,
   "metadata": {},
   "outputs": [],
   "source": [
    "import os\n",
    "import sys"
   ]
  },
  {
   "cell_type": "code",
   "execution_count": 3,
   "metadata": {},
   "outputs": [
    {
     "data": {
      "text/plain": [
       "'/usr/bin/miniconda3/bin/python'"
      ]
     },
     "execution_count": 3,
     "metadata": {},
     "output_type": "execute_result"
    }
   ],
   "source": [
    "sys.executable"
   ]
  },
  {
   "cell_type": "markdown",
   "metadata": {},
   "source": [
    "`os.environ.keys()` on Linux Mint 18.3 On Jupyter Notebook\n",
    "\n",
    "```\n",
    "['XDG_VTNR',\n",
    " 'SSH_AGENT_PID',\n",
    " 'XDG_SESSION_ID',\n",
    " 'XDG_GREETER_DATA_DIR',\n",
    " 'QT_STYLE_OVERRIDE',\n",
    " 'TERM',\n",
    " 'SHELL',\n",
    " 'VTE_VERSION',\n",
    " 'CONDA_SHLVL',\n",
    " 'QT_LINUX_ACCESSIBILITY_ALWAYS_ON',\n",
    " 'CONDA_PROMPT_MODIFIER',\n",
    " 'WINDOWID',\n",
    " 'OLDPWD',\n",
    " 'GTK_MODULES',\n",
    " 'USER',\n",
    " 'LS_COLORS',\n",
    " 'QT_ACCESSIBILITY',\n",
    " 'DESKTOP_AUTOSTART_ID',\n",
    " 'XDG_SESSION_PATH',\n",
    " 'XDG_SEAT_PATH',\n",
    " 'SSH_AUTH_SOCK',\n",
    " 'SESSION_MANAGER',\n",
    " 'DEFAULTS_PATH',\n",
    " 'XDG_CONFIG_DIRS',\n",
    " 'PATH',\n",
    " 'DESKTOP_SESSION',\n",
    " 'QT_QPA_PLATFORMTHEME',\n",
    " 'CONDA_PREFIX',\n",
    " 'XDG_SESSION_TYPE',\n",
    " 'PWD',\n",
    " 'LANG',\n",
    " 'GDM_LANG',\n",
    " 'MANDATORY_PATH',\n",
    " 'GDMSESSION',\n",
    " 'XDG_SEAT',\n",
    " 'HOME',\n",
    " 'SHLVL',\n",
    " 'LANGUAGE',\n",
    " 'GNOME_DESKTOP_SESSION_ID',\n",
    " 'GTK_OVERLAY_SCROLLING',\n",
    " 'CONDA_PYTHON_EXE',\n",
    " 'XDG_SESSION_DESKTOP',\n",
    " 'LOGNAME',\n",
    " 'XDG_DATA_DIRS',\n",
    " 'DBUS_SESSION_BUS_ADDRESS',\n",
    " 'CONDA_DEFAULT_ENV',\n",
    " 'LESSOPEN',\n",
    " 'XDG_RUNTIME_DIR',\n",
    " 'DISPLAY',\n",
    " 'XDG_CURRENT_DESKTOP',\n",
    " 'LESSCLOSE',\n",
    " 'XAUTHORITY',\n",
    " '_',\n",
    " 'JPY_PARENT_PID',\n",
    " 'CLICOLOR',\n",
    " 'PAGER',\n",
    " 'GIT_PAGER',\n",
    " 'MPLBACKEND']\n",
    " ```"
   ]
  },
  {
   "cell_type": "code",
   "execution_count": 7,
   "metadata": {},
   "outputs": [],
   "source": [
    "# globals()"
   ]
  },
  {
   "cell_type": "code",
   "execution_count": 4,
   "metadata": {},
   "outputs": [
    {
     "data": {
      "text/plain": [
       "['XDG_VTNR',\n",
       " 'SSH_AGENT_PID',\n",
       " 'XDG_SESSION_ID',\n",
       " 'XDG_GREETER_DATA_DIR',\n",
       " 'QT_STYLE_OVERRIDE',\n",
       " 'TERM',\n",
       " 'SHELL',\n",
       " 'VTE_VERSION',\n",
       " 'CONDA_SHLVL',\n",
       " 'QT_LINUX_ACCESSIBILITY_ALWAYS_ON',\n",
       " 'CONDA_PROMPT_MODIFIER',\n",
       " 'WINDOWID',\n",
       " 'OLDPWD',\n",
       " 'GTK_MODULES',\n",
       " 'USER',\n",
       " 'LS_COLORS',\n",
       " 'QT_ACCESSIBILITY',\n",
       " 'DESKTOP_AUTOSTART_ID',\n",
       " 'XDG_SESSION_PATH',\n",
       " 'XDG_SEAT_PATH',\n",
       " 'SSH_AUTH_SOCK',\n",
       " 'SESSION_MANAGER',\n",
       " 'DEFAULTS_PATH',\n",
       " 'XDG_CONFIG_DIRS',\n",
       " 'PATH',\n",
       " 'DESKTOP_SESSION',\n",
       " 'QT_QPA_PLATFORMTHEME',\n",
       " 'CONDA_PREFIX',\n",
       " 'XDG_SESSION_TYPE',\n",
       " 'PWD',\n",
       " 'LANG',\n",
       " 'GDM_LANG',\n",
       " 'MANDATORY_PATH',\n",
       " 'GDMSESSION',\n",
       " 'XDG_SEAT',\n",
       " 'HOME',\n",
       " 'SHLVL',\n",
       " 'LANGUAGE',\n",
       " 'GNOME_DESKTOP_SESSION_ID',\n",
       " 'GTK_OVERLAY_SCROLLING',\n",
       " 'CONDA_PYTHON_EXE',\n",
       " 'XDG_SESSION_DESKTOP',\n",
       " 'LOGNAME',\n",
       " 'XDG_DATA_DIRS',\n",
       " 'DBUS_SESSION_BUS_ADDRESS',\n",
       " 'CONDA_DEFAULT_ENV',\n",
       " 'LESSOPEN',\n",
       " 'XDG_RUNTIME_DIR',\n",
       " 'DISPLAY',\n",
       " 'XDG_CURRENT_DESKTOP',\n",
       " 'LESSCLOSE',\n",
       " 'XAUTHORITY',\n",
       " '_',\n",
       " 'JPY_PARENT_PID',\n",
       " 'CLICOLOR',\n",
       " 'PAGER',\n",
       " 'GIT_PAGER',\n",
       " 'MPLBACKEND']"
      ]
     },
     "execution_count": 4,
     "metadata": {},
     "output_type": "execute_result"
    }
   ],
   "source": [
    "list(os.environ.keys())"
   ]
  },
  {
   "cell_type": "code",
   "execution_count": null,
   "metadata": {},
   "outputs": [],
   "source": []
  }
 ],
 "metadata": {
  "kernelspec": {
   "display_name": "Python 3",
   "language": "python",
   "name": "python3"
  },
  "language_info": {
   "codemirror_mode": {
    "name": "ipython",
    "version": 3
   },
   "file_extension": ".py",
   "mimetype": "text/x-python",
   "name": "python",
   "nbconvert_exporter": "python",
   "pygments_lexer": "ipython3",
   "version": "3.6.3"
  }
 },
 "nbformat": 4,
 "nbformat_minor": 2
}
